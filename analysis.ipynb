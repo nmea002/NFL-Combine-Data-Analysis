{
 "cells": [
  {
   "cell_type": "code",
   "execution_count": 35,
   "id": "4bf2be9d",
   "metadata": {},
   "outputs": [],
   "source": [
    "#Merging and cleaning data\n",
    "import pandas as pd\n",
    "\n",
    "career_df  = pd.read_csv(filepath_or_buffer=\"combined_career_data.csv\", encoding=\"utf-8\", sep=\"\\t\")\n",
    "combine_df  = pd.read_csv(filepath_or_buffer=\"combined_nfl_combine_data.csv\", encoding=\"utf-8\", sep=\"\\t\")\n",
    "merged_df = pd.merge(left=combine_df, right=career_df, how=\"inner\", on=['Player', 'Year'])\n",
    "\n",
    "merged_df = merged_df.drop(columns=[\"Pick_x\", \"Rnd\", \"Team\", \"Pos_x\"])\n",
    "merged_df = merged_df.rename(columns={\n",
    "    \"Pick_y\": \"Pick\",\n",
    "    \"Pos_y\" : \"Pos\"\n",
    "})\n",
    "\n",
    "merged_df[\"Seasons Played\"] = merged_df[\"To\"] - merged_df[\"Year\"] + 1"
   ]
  },
  {
   "cell_type": "code",
   "execution_count": 36,
   "id": "a8ce91d9",
   "metadata": {},
   "outputs": [],
   "source": [
    "#Calculating Percentile For Combine Performance\n",
    "combine_metrics = [\"40yd\", \"Vertical\", \"Bench\", \"Broad Jump\", \"3Cone\", \"Shuttle\"]\n",
    "\n",
    "for col in combine_metrics:\n",
    "    ascending = col not in [\"Bench\", \"Vertical\", \"Broad Jump\"]\n",
    "    merged_df[col + \"_percentile\"] = merged_df[col].rank(pct=True, ascending=ascending) * 100"
   ]
  },
  {
   "cell_type": "code",
   "execution_count": 39,
   "id": "7f44ac2f",
   "metadata": {},
   "outputs": [
    {
     "name": "stdout",
     "output_type": "stream",
     "text": [
      "828\n"
     ]
    }
   ],
   "source": [
    "merged_df.to_csv(\"merged_nfl_career_and_combine_data.csv\", sep=\"\\t\", encoding=\"utf-8\", index=False)\n",
    "# print(merged_df[\"3Cone_percentile\"])\n",
    "#print(merged_df[\"Seasons Played\"].loc[merged_df[\"Player\"] == \"Vernon Hargreaves III\"])"
   ]
  }
 ],
 "metadata": {
  "kernelspec": {
   "display_name": ".venv",
   "language": "python",
   "name": "python3"
  },
  "language_info": {
   "codemirror_mode": {
    "name": "ipython",
    "version": 3
   },
   "file_extension": ".py",
   "mimetype": "text/x-python",
   "name": "python",
   "nbconvert_exporter": "python",
   "pygments_lexer": "ipython3",
   "version": "3.13.3"
  }
 },
 "nbformat": 4,
 "nbformat_minor": 5
}
